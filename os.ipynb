{
 "cells": [
  {
   "cell_type": "code",
   "execution_count": 11,
   "metadata": {},
   "outputs": [],
   "source": [
    "import os\n",
    "\n",
    "#get all the files in a given directory with \n",
    "def get_files_in_dir(dir):\n",
    "    return os.listdir(dir)\n",
    "#check if a file exists\n",
    "def file_exists(file):\n",
    "    return os.path.isfile(file) \n",
    "#check if a directory exists\n",
    "def dir_exists(dir):\n",
    "    return os.path.isdir(dir)\n",
    "#check if a path exists\n",
    "def path_exists(path):\n",
    "    return os.path.exists(path)\n",
    "def convert_backslash_to_forwardslash(path):\n",
    "    return path.replace('\\\\','/')"
   ]
  },
  {
   "cell_type": "code",
   "execution_count": 33,
   "metadata": {},
   "outputs": [
    {
     "name": "stdout",
     "output_type": "stream",
     "text": [
      ".git\n",
      ".gitignore\n",
      "adobe-dc-pdf-services-sdk-extract-python-samples\n",
      "main.py\n",
      "main2.ipynb\n",
      "os.ipynb\n",
      "pdfservices-api-credentials.json\n",
      "private.key\n",
      "README.txt\n",
      "resources\n",
      "test.java\n"
     ]
    }
   ],
   "source": [
    "import glob\n",
    "path='C:/ePDM_Elcam/test/1.4-2023/Templates/'\n",
    "path2=\"C:/Users/matan.s/Desktop/python/Adobe API Project\"\n",
    "res=(os.listdir(path2))\n",
    "for i in res:\n",
    "    print(i)"
   ]
  }
 ],
 "metadata": {
  "kernelspec": {
   "display_name": "Python 3",
   "language": "python",
   "name": "python3"
  },
  "language_info": {
   "codemirror_mode": {
    "name": "ipython",
    "version": 3
   },
   "file_extension": ".py",
   "mimetype": "text/x-python",
   "name": "python",
   "nbconvert_exporter": "python",
   "pygments_lexer": "ipython3",
   "version": "3.9.13"
  },
  "orig_nbformat": 4
 },
 "nbformat": 4,
 "nbformat_minor": 2
}
